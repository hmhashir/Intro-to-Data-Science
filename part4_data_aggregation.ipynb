{
 "cells": [
  {
   "cell_type": "code",
   "execution_count": null,
   "metadata": {},
   "outputs": [],
   "source": [
    "feedback = {\n",
    "    1: {'rating': 5, 'comments': 'Excellent!'},\n",
    "    2: {'rating': 4, 'comments': 'Very good.'},\n",
    "    3: {'rating': 3, 'comments': 'Okay.'},\n",
    "    4: {'rating': 2, 'comments': 'Not satisfied.'},\n",
    "    5: {'rating': 4, 'comments': 'Good service!'},\n",
    "}\n",
    "\n",
    "def filter_high_ratings(feedback):\n",
    "    return {user_id: details['rating'] for user_id, details in feedback.items() if details['rating'] >= 4}\n",
    "\n",
    "high_rated_feedback = filter_high_ratings(feedback)\n",
    "print(\"Filtered Users with High Ratings:\", high_rated_feedback)\n",
    "\n",
    "def top_users_by_rating(feedback):\n",
    "    sorted_feedback = sorted(feedback.items(), key=lambda x: x[1]['rating'], reverse=True)\n",
    "    return dict(sorted_feedback[:5])\n",
    "\n",
    "top_rated_users = top_users_by_rating(feedback)\n",
    "print(\"Top 5 Users by Rating:\", top_rated_users)\n",
    "\n",
    "def combine_feedback(*feedback_dicts):\n",
    "    combined_feedback = {}\n",
    "    for feedback in feedback_dicts:\n",
    "        for user_id, details in feedback.items():\n",
    "            if user_id in combined_feedback:\n",
    "                combined_feedback[user_id]['rating'] = max(combined_feedback[user_id]['rating'], details['rating'])\n",
    "                combined_feedback[user_id]['comments'].append(details['comments'])\n",
    "            else:\n",
    "                combined_feedback[user_id] = {'rating': details['rating'], 'comments': [details['comments']]}\n",
    "    return combined_feedback\n",
    "\n",
    "feedback2 = {\n",
    "    1: {'rating': 4, 'comments': 'Great!'},\n",
    "    2: {'rating': 3, 'comments': 'Good.'},\n",
    "}\n",
    "\n",
    "combined_feedback = combine_feedback(feedback, feedback2)\n",
    "print(\"Combined Feedback:\", combined_feedback)\n",
    "\n",
    "def ratings_greater_than(feedback, threshold):\n",
    "    return {user_id: details['rating'] for user_id, details in feedback.items() if details['rating'] > threshold}\n",
    "\n",
    "ratings_above_3 = ratings_greater_than(feedback, 3)\n",
    "print(\"Ratings Greater than 3:\", ratings_above_3)"
   ]
  }
 ],
 "metadata": {
  "language_info": {
   "name": "python"
  },
  "orig_nbformat": 4
 },
 "nbformat": 4,
 "nbformat_minor": 2
}

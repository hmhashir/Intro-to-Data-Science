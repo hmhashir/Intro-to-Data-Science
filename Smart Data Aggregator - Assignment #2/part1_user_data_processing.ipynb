{
 "cells": [
  {
   "cell_type": "code",
   "execution_count": 1,
   "metadata": {},
   "outputs": [
    {
     "name": "stdout",
     "output_type": "stream",
     "text": [
      "Filtered User Names: ['Bob', 'Frank']\n",
      "Top 10 Oldest Users: [(6, 'Frank', 41, 'USA'), (2, 'Bob', 34, 'Canada'), (3, 'Charlie', 32, 'UK'), (4, 'David', 29, 'USA'), (1, 'Alice', 28, 'USA'), (5, 'Eve', 25, 'Canada')]\n",
      "Duplicate Names: set()\n"
     ]
    }
   ],
   "source": [
    "users = [\n",
    "    (1, \"Alice\", 28, \"USA\"),\n",
    "    (2, \"Bob\", 34, \"Canada\"),\n",
    "    (3, \"Charlie\", 32, \"UK\"),\n",
    "    (4, \"David\", 29, \"USA\"),\n",
    "    (5, \"Eve\", 25, \"Canada\"),\n",
    "    (6, \"Frank\", 41, \"USA\"),\n",
    "]\n",
    "\n",
    "def filter_users(users):\n",
    "    return [user[1] for user in users if user[2] > 30 and user[3] in ['USA', 'Canada']]\n",
    "\n",
    "filtered_user_names = filter_users(users)\n",
    "print(\"Filtered User Names:\", filtered_user_names)\n",
    "\n",
    "def top_oldest_users(users):\n",
    "    sorted_users = sorted(users, key=lambda x: x[2], reverse=True)\n",
    "    return sorted_users[:10]\n",
    "\n",
    "oldest_users = top_oldest_users(users)\n",
    "print(\"Top 10 Oldest Users:\", oldest_users)\n",
    "\n",
    "def check_duplicate_names(users):\n",
    "    names = [user[1] for user in users]\n",
    "    duplicates = set([name for name in names if names.count(name) > 1])\n",
    "    return duplicates\n",
    "\n",
    "duplicate_names = check_duplicate_names(users)\n",
    "print(\"Duplicate Names:\", duplicate_names)"
   ]
  }
 ],
 "metadata": {
  "kernelspec": {
   "display_name": "Python 3",
   "language": "python",
   "name": "python3"
  },
  "language_info": {
   "codemirror_mode": {
    "name": "ipython",
    "version": 3
   },
   "file_extension": ".py",
   "mimetype": "text/x-python",
   "name": "python",
   "nbconvert_exporter": "python",
   "pygments_lexer": "ipython3",
   "version": "3.11.2"
  },
  "orig_nbformat": 4,
  "vscode": {
   "interpreter": {
    "hash": "d7f93e61b57b3f4c88d4c54562a0f46f1f34c24c4d7ab3f42c1277f261f9d68a"
   }
  }
 },
 "nbformat": 4,
 "nbformat_minor": 2
}

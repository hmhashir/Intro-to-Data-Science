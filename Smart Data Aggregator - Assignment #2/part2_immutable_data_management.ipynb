{
 "cells": [
  {
   "cell_type": "code",
   "execution_count": 1,
   "metadata": {},
   "outputs": [
    {
     "name": "stdout",
     "output_type": "stream",
     "text": [
      "Total Unique Users: 3\n",
      "Highest Transaction: (104, 1, 400.0, '2024-10-01 12:15:00')\n",
      "Transaction IDs: [101, 102, 103, 104]\n",
      "User IDs: [1, 2, 3, 1]\n"
     ]
    }
   ],
   "source": [
    "transactions = [\n",
    "    (101, 1, 250.0, \"2024-10-01 12:00:00\"),\n",
    "    (102, 2, 300.0, \"2024-10-01 12:05:00\"),\n",
    "    (103, 3, 150.0, \"2024-10-01 12:10:00\"),\n",
    "    (104, 1, 400.0, \"2024-10-01 12:15:00\"),\n",
    "]\n",
    "\n",
    "def unique_users_count(transactions):\n",
    "    unique_users = set(transaction[1] for transaction in transactions)\n",
    "    return len(unique_users)\n",
    "\n",
    "total_unique_users = unique_users_count(transactions)\n",
    "print(\"Total Unique Users:\", total_unique_users)\n",
    "\n",
    "def highest_transaction(transactions):\n",
    "    return max(transactions, key=lambda x: x[2])\n",
    "\n",
    "highest_transaction_data = highest_transaction(transactions)\n",
    "print(\"Highest Transaction:\", highest_transaction_data)\n",
    "\n",
    "def separate_ids(transactions):\n",
    "    transaction_ids = [transaction[0] for transaction in transactions]\n",
    "    user_ids = [transaction[1] for transaction in transactions]\n",
    "    return transaction_ids, user_ids\n",
    "\n",
    "transaction_ids, user_ids = separate_ids(transactions)\n",
    "print(\"Transaction IDs:\", transaction_ids)\n",
    "print(\"User IDs:\", user_ids)"
   ]
  }
 ],
 "metadata": {
  "kernelspec": {
   "display_name": "Python 3",
   "language": "python",
   "name": "python3"
  },
  "language_info": {
   "codemirror_mode": {
    "name": "ipython",
    "version": 3
   },
   "file_extension": ".py",
   "mimetype": "text/x-python",
   "name": "python",
   "nbconvert_exporter": "python",
   "pygments_lexer": "ipython3",
   "version": "3.11.2"
  },
  "orig_nbformat": 4,
  "vscode": {
   "interpreter": {
    "hash": "d7f93e61b57b3f4c88d4c54562a0f46f1f34c24c4d7ab3f42c1277f261f9d68a"
   }
  }
 },
 "nbformat": 4,
 "nbformat_minor": 2
}

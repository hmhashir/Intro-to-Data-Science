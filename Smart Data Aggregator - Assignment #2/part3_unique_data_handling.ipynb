{
 "cells": [
  {
   "cell_type": "code",
   "execution_count": null,
   "metadata": {},
   "outputs": [],
   "source": [
    "page_a_users = {1, 2, 3, 4}\n",
    "page_b_users = {2, 4, 5, 6}\n",
    "page_c_users = {1, 3, 6, 7}\n",
    "\n",
    "def users_visited_both(page_a, page_b):\n",
    "    return page_a.intersection(page_b)\n",
    "\n",
    "common_users = users_visited_both(page_a_users, page_b_users)\n",
    "print(\"Users who visited both Page A and Page B:\", common_users)\n",
    "\n",
    "def users_visited_either_not_both(page_a, page_c):\n",
    "    return page_a.symmetric_difference(page_c)\n",
    "\n",
    "unique_visitors = users_visited_either_not_both(page_a_users, page_c_users)\n",
    "print(\"Users who visited either Page A or Page C, but not both:\", unique_visitors)\n",
    "\n",
    "def update_page_a(page_a, new_users):\n",
    "    page_a.update(new_users)\n",
    "    return page_a\n",
    "\n",
    "updated_page_a_users = update_page_a(page_a_users, {8, 9})\n",
    "print(\"Updated Page A Users:\", updated_page_a_users)\n",
    "\n",
    "def remove_users_from_page_b(page_b, users_to_remove):\n",
    "    page_b.difference_update(users_to_remove)\n",
    "    return page_b\n",
    "\n",
    "updated_page_b_users = remove_users_from_page_b(page_b_users, {2, 4})\n",
    "print(\"Updated Page B Users:\", updated_page_b_users)"
   ]
  }
 ],
 "metadata": {
  "language_info": {
   "name": "python"
  },
  "orig_nbformat": 4
 },
 "nbformat": 4,
 "nbformat_minor": 2
}

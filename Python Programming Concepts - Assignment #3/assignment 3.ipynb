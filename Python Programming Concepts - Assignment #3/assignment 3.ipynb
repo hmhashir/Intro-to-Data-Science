{
 "cells": [
  {
   "attachments": {},
   "cell_type": "markdown",
   "metadata": {},
   "source": [
    "# Muhammad Hashir\n",
    "## BSDSF22M017\n"
   ]
  },
  {
   "attachments": {},
   "cell_type": "markdown",
   "metadata": {},
   "source": [
    "\n",
    "### Task 1: E-commerce Data Processing\n",
    "\n",
    "Building a system to handle order and customer data for an online store.\n",
    "The system needs to use lambda functions, Python's built-in functions (e.g., map(),\n",
    "filter(), reduce()), and proper exception handling."
   ]
  },
  {
   "attachments": {},
   "cell_type": "markdown",
   "metadata": {},
   "source": [
    "#### Part A: Data Validation"
   ]
  },
  {
   "cell_type": "code",
   "execution_count": 4,
   "metadata": {},
   "outputs": [
    {
     "name": "stdout",
     "output_type": "stream",
     "text": [
      "Valid Orders: [{'customer': 'Alice', 'total': 250.5}, {'customer': 'Charlie', 'total': 450}, {'customer': 'Daisy', 'total': 100.0}]\n"
     ]
    }
   ],
   "source": [
    "def validate_orders(orders):\n",
    "    # Use a lambda function to check if 'total' is a valid number and greater than 0\n",
    "    is_valid_order = lambda order: isinstance(order['total'], (int, float)) and order['total'] > 0\n",
    "    \n",
    "    try:\n",
    "        # Use filter() to keep only valid orders\n",
    "        valid_orders = list(filter(is_valid_order, orders))\n",
    "    except Exception as e:\n",
    "        # Catch any errors and print them\n",
    "        print(f\"Error during validation: {e}\")\n",
    "        return []\n",
    "    \n",
    "    return valid_orders\n",
    "\n",
    "# Sample data of orders\n",
    "orders = [\n",
    "    {\"customer\": \"Alice\", \"total\": 250.5},\n",
    "    {\"customer\": \"Bob\", \"total\": \"invalid_data\"}, # Invalid because total is not a number\n",
    "    {\"customer\": \"Charlie\", \"total\": 450},\n",
    "    {\"customer\": \"Daisy\", \"total\": 100.0},\n",
    "    {\"customer\": \"Eve\", \"total\": -30} # Invalid because total is less than 0\n",
    "]\n",
    "\n",
    "# Get valid orders\n",
    "valid_orders = validate_orders(orders)\n",
    "print(\"Valid Orders:\", valid_orders)\n"
   ]
  },
  {
   "attachments": {},
   "cell_type": "markdown",
   "metadata": {},
   "source": [
    "#### Part B: Discount Application"
   ]
  },
  {
   "cell_type": "code",
   "execution_count": 5,
   "metadata": {},
   "outputs": [
    {
     "name": "stdout",
     "output_type": "stream",
     "text": [
      "Discounted Orders: [{'customer': 'Alice', 'total': 250.5}, {'customer': 'Charlie', 'total': 405.0}, {'customer': 'Daisy', 'total': 100.0}]\n"
     ]
    }
   ],
   "source": [
    "def apply_discount(orders):\n",
    "    # Use map() and a lambda function to apply discount\n",
    "    discounted_orders = list(\n",
    "        map(\n",
    "            lambda order: {**order, 'total': order['total'] * 0.9} if order['total'] > 300 else order,\n",
    "            orders\n",
    "        )\n",
    "    )\n",
    "    return discounted_orders\n",
    "\n",
    "# Apply discount to valid orders\n",
    "discounted_orders = apply_discount(valid_orders)\n",
    "print(\"Discounted Orders:\", discounted_orders)"
   ]
  },
  {
   "attachments": {},
   "cell_type": "markdown",
   "metadata": {},
   "source": [
    "#### Part C: Total Sales Calculation"
   ]
  },
  {
   "cell_type": "code",
   "execution_count": 7,
   "metadata": {},
   "outputs": [
    {
     "name": "stdout",
     "output_type": "stream",
     "text": [
      "Total Sales: 755.5\n"
     ]
    }
   ],
   "source": [
    "from functools import reduce\n",
    "\n",
    "# Function to calculate total sales\n",
    "def calculate_total_sales(orders):\n",
    "    # Use reduce() and a lambda function to add up all the totals\n",
    "    total_sales = reduce(lambda acc, order: acc + order['total'], orders, 0)\n",
    "    return total_sales\n",
    "\n",
    "# Calculate total sales from the discounted orders\n",
    "total_sales = calculate_total_sales(discounted_orders)\n",
    "print(\"Total Sales:\", total_sales)"
   ]
  },
  {
   "attachments": {},
   "cell_type": "markdown",
   "metadata": {},
   "source": [
    "### Task 2: Iterator and Generator\n",
    "#### Part A: Custom Iterator"
   ]
  },
  {
   "cell_type": "code",
   "execution_count": null,
   "metadata": {},
   "outputs": [],
   "source": [
    "# Custom iterator class to generate squares of numbers from 1 to n\n",
    "class SquareIterator:\n",
    "    def __init__(self, n):\n",
    "        self.n = n\n",
    "        self.current = 1\n",
    "\n",
    "    def __iter__(self):\n",
    "        return self\n",
    "\n",
    "    def __next__(self):\n",
    "        if self.current <= self.n:\n",
    "            result = self.current ** 2\n",
    "            self.current += 1\n",
    "            return result\n",
    "        else:\n",
    "            raise StopIteration\n",
    "\n",
    "# Use the SquareIterator to print squares of the first 5 natural numbers\n",
    "square_iter = SquareIterator(5)\n",
    "print(\"Squares:\")\n",
    "for square in square_iter:\n",
    "    print(square)\n"
   ]
  },
  {
   "attachments": {},
   "cell_type": "markdown",
   "metadata": {},
   "source": [
    "#### Part B: Fibonacci Generator"
   ]
  },
  {
   "cell_type": "code",
   "execution_count": 8,
   "metadata": {},
   "outputs": [
    {
     "name": "stdout",
     "output_type": "stream",
     "text": [
      "Fibonacci Sequence:\n",
      "0\n",
      "1\n",
      "1\n",
      "2\n",
      "3\n",
      "5\n",
      "8\n",
      "13\n",
      "21\n"
     ]
    }
   ],
   "source": [
    "# Function to generate the Fibonacci sequence up to n\n",
    "def fibonacci_generator(n):\n",
    "    a, b = 0, 1\n",
    "    while a <= n:\n",
    "        yield a\n",
    "        a, b = b, a + b\n",
    "\n",
    "# Print the Fibonacci sequence up to 21\n",
    "print(\"Fibonacci Sequence:\")\n",
    "for num in fibonacci_generator(21):\n",
    "    print(num)"
   ]
  },
  {
   "attachments": {},
   "cell_type": "markdown",
   "metadata": {},
   "source": [
    "### Task 3: Exception Handling and Function Decorator\n",
    "You need to implement robust exception handling in the system."
   ]
  },
  {
   "attachments": {},
   "cell_type": "markdown",
   "metadata": {},
   "source": [
    "#### Part A: Chained Exceptions"
   ]
  },
  {
   "cell_type": "code",
   "execution_count": 10,
   "metadata": {},
   "outputs": [
    {
     "name": "stdout",
     "output_type": "stream",
     "text": [
      "Error: Division by zero is not allowed.\n"
     ]
    }
   ],
   "source": [
    "# Custom exception for division errors\n",
    "class CustomDivisionError(Exception):\n",
    "    def __init__(self, message):\n",
    "        self.message = message\n",
    "        super().__init__(self.message)\n",
    "\n",
    "# Function to divide numbers in a list by a divisor\n",
    "def divide_numbers(numbers, divisor):\n",
    "    try:\n",
    "        if divisor == 0:\n",
    "            raise CustomDivisionError(\"Division by zero is not allowed.\")\n",
    "        return [num / divisor for num in numbers]\n",
    "    except CustomDivisionError as e:\n",
    "        # Raise our custom exception if divisor is 0\n",
    "        raise e\n",
    "    except Exception as e:\n",
    "        # Raise a custom exception with additional information for any other error\n",
    "        raise CustomDivisionError(\"An error occurred during division.\") from e\n",
    "\n",
    "# Testing with a divisor of 0 (will cause an error)\n",
    "try:\n",
    "    divide_numbers([10, 20, 30], 0)\n",
    "except Exception as e:\n",
    "    print(f\"Error: {e}\")"
   ]
  },
  {
   "attachments": {},
   "cell_type": "markdown",
   "metadata": {},
   "source": [
    "#### Part B: Exception Logging Decorator"
   ]
  },
  {
   "cell_type": "code",
   "execution_count": 11,
   "metadata": {},
   "outputs": [
    {
     "name": "stdout",
     "output_type": "stream",
     "text": [
      "Exception in risky_function: ZeroDivisionError - division by zero\n"
     ]
    }
   ],
   "source": [
    "import functools\n",
    "\n",
    "# Decorator to log exceptions during function execution\n",
    "def exception_logging_decorator(func):\n",
    "    @functools.wraps(func)\n",
    "    def wrapper(*args, **kwargs):\n",
    "        try:\n",
    "            return func(*args, **kwargs)\n",
    "        except Exception as e:\n",
    "            print(f\"Exception in {func.__name__}: {type(e).__name__} - {e}\")\n",
    "            raise\n",
    "    return wrapper\n",
    "\n",
    "# Example function to test the decorator\n",
    "@exception_logging_decorator\n",
    "def risky_function(x, y):\n",
    "    return x / y\n",
    "\n",
    "# Test: will trigger an exception because of division by 0\n",
    "try:\n",
    "    risky_function(10, 0)\n",
    "except Exception as e:\n",
    "    pass"
   ]
  }
 ],
 "metadata": {
  "kernelspec": {
   "display_name": "Python 3",
   "language": "python",
   "name": "python3"
  },
  "language_info": {
   "codemirror_mode": {
    "name": "ipython",
    "version": 3
   },
   "file_extension": ".py",
   "mimetype": "text/x-python",
   "name": "python",
   "nbconvert_exporter": "python",
   "pygments_lexer": "ipython3",
   "version": "3.11.2"
  },
  "orig_nbformat": 4,
  "vscode": {
   "interpreter": {
    "hash": "d7f93e61b57b3f4c88d4c54562a0f46f1f34c24c4d7ab3f42c1277f261f9d68a"
   }
  }
 },
 "nbformat": 4,
 "nbformat_minor": 2
}
